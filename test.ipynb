{
 "cells": [
  {
   "cell_type": "code",
   "execution_count": 8,
   "metadata": {},
   "outputs": [],
   "source": [
    "import torch \n",
    "from PIL import Image\n",
    "from torch import nn, save, load\n",
    "from torch.optim import Adam\n",
    "from torch.utils.data import DataLoader\n",
    "from torchvision import datasets\n",
    "from torchvision.transforms import ToTensor\n",
    "import matplotlib.pyplot as plt"
   ]
  },
  {
   "cell_type": "code",
   "execution_count": 4,
   "metadata": {},
   "outputs": [],
   "source": [
    "train = datasets.FashionMNIST(root=\"data\", download=True, train=True, transform=ToTensor())\n",
    "dataset = DataLoader(train, 32)"
   ]
  },
  {
   "cell_type": "code",
   "execution_count": 5,
   "metadata": {},
   "outputs": [],
   "source": [
    "# Image Classifier Neural Network\n",
    "class ImageClassifier(nn.Module): \n",
    "    def __init__(self):\n",
    "        super().__init__()\n",
    "        self.model = nn.Sequential(\n",
    "            nn.Conv2d(1, 32, (3,3)), \n",
    "            nn.ReLU(),\n",
    "            nn.Conv2d(32, 64, (3,3)), \n",
    "            nn.ReLU(),\n",
    "            nn.Conv2d(64, 64, (3,3)), \n",
    "            nn.ReLU(),\n",
    "            nn.Flatten(), \n",
    "            nn.Linear(64*(28-6)*(28-6), 10)  \n",
    "        )\n",
    "\n",
    "    def forward(self, x): \n",
    "        return self.model(x)"
   ]
  },
  {
   "cell_type": "code",
   "execution_count": 6,
   "metadata": {},
   "outputs": [],
   "source": [
    "clf = ImageClassifier().to('cuda')\n",
    "opt = Adam(clf.parameters(), lr=1e-3)\n",
    "loss_fn = nn.CrossEntropyLoss() "
   ]
  },
  {
   "cell_type": "code",
   "execution_count": 7,
   "metadata": {},
   "outputs": [
    {
     "name": "stdout",
     "output_type": "stream",
     "text": [
      "Epoch:0 loss is 0.25932154059410095\n",
      "Epoch:1 loss is 0.17490248382091522\n",
      "Epoch:2 loss is 0.1400056630373001\n",
      "Epoch:3 loss is 0.14796490967273712\n",
      "Epoch:4 loss is 0.1061876118183136\n",
      "Epoch:5 loss is 0.15974123775959015\n",
      "Epoch:6 loss is 0.08369777351617813\n",
      "Epoch:7 loss is 0.032503221184015274\n",
      "Epoch:8 loss is 0.06784221529960632\n",
      "Epoch:9 loss is 0.06599842011928558\n"
     ]
    }
   ],
   "source": [
    "if __name__ == \"__main__\": \n",
    "    for epoch in range(10): # train for 10 epochs\n",
    "        for batch in dataset: \n",
    "            X,y = batch \n",
    "            X, y = X.to('cuda'), y.to('cuda') \n",
    "            yhat = clf(X) \n",
    "            loss = loss_fn(yhat, y) \n",
    "\n",
    "            # Apply backprop \n",
    "            opt.zero_grad()\n",
    "            loss.backward() \n",
    "            opt.step() \n",
    "\n",
    "        print(f\"Epoch:{epoch} loss is {loss.item()}\")"
   ]
  },
  {
   "cell_type": "code",
   "execution_count": 12,
   "metadata": {},
   "outputs": [
    {
     "name": "stdout",
     "output_type": "stream",
     "text": [
      "8\n",
      "8\n"
     ]
    },
    {
     "data": {
      "image/png": "[encoded data removed]",
      "text/plain": [
       "<Figure size 640x480 with 1 Axes>"
      ]
     },
     "metadata": {},
     "output_type": "display_data"
    }
   ],
   "source": [
    "random = int(torch.randint(1, len(train), size=[1]).item())\n",
    "img, label = train[random]\n",
    "image = torch.unsqueeze(img, 1)\n",
    "# print(image.shape)\n",
    "plt.imshow(img.squeeze())\n",
    "logit = clf(image.to(\"cuda\"))\n",
    "pred = torch.softmax(logit,1).argmax().item()\n",
    "print(pred)\n",
    "print(label)"
   ]
  },
  {
   "cell_type": "code",
   "execution_count": null,
   "metadata": {},
   "outputs": [],
   "source": []
  }
 ],
 "metadata": {
  "kernelspec": {
   "display_name": "pytorchlearning",
   "language": "python",
   "name": "python3"
  },
  "language_info": {
   "codemirror_mode": {
    "name": "ipython",
    "version": 3
   },
   "file_extension": ".py",
   "mimetype": "text/x-python",
   "name": "python",
   "nbconvert_exporter": "python",
   "pygments_lexer": "ipython3",
   "version": "3.12.2"
  }
 },
 "nbformat": 4,
 "nbformat_minor": 2
}
